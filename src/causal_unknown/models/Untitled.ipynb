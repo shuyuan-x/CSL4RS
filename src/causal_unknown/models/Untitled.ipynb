{
 "cells": [
  {
   "cell_type": "code",
   "execution_count": 1,
   "id": "43ff4aa7-479f-4b83-8264-7eb5c5d9e3cc",
   "metadata": {},
   "outputs": [],
   "source": [
    "import numpy as np\n",
    "import torch"
   ]
  },
  {
   "cell_type": "code",
   "execution_count": 5,
   "id": "d609615c-046d-41fd-890f-e0b081a7a53b",
   "metadata": {},
   "outputs": [
    {
     "name": "stdout",
     "output_type": "stream",
     "text": [
      "tensor([[-0.1177,  0.2999,  0.8468,  0.8654,  0.4997],\n",
      "        [-0.7504,  0.2826, -0.1647, -0.2045,  0.9564],\n",
      "        [-0.6463, -0.2704, -0.8466,  0.9396,  0.7679],\n",
      "        [ 0.6446, -0.8707,  0.0642, -0.2040,  0.9156],\n",
      "        [ 0.4652, -0.7850,  0.9043,  0.3179, -0.5956]])\n",
      "tensor([[0., 1., 1., 1., 1.],\n",
      "        [0., 0., 0., 0., 1.],\n",
      "        [0., 0., 0., 1., 1.],\n",
      "        [1., 0., 1., 0., 1.],\n",
      "        [1., 0., 1., 1., 0.]])\n"
     ]
    }
   ],
   "source": [
    "gamma = torch.rand(5,5).uniform_(-1,1)\n",
    "print(gamma)\n",
    "gamma = gamma.sigmoid().gt_(torch.tensor(0.5))\n",
    "gamma.diagonal().zero_()\n",
    "print(gamma)\n",
    "                            "
   ]
  },
  {
   "cell_type": "code",
   "execution_count": 46,
   "id": "748de42c-e198-4346-82b9-19a97487e872",
   "metadata": {},
   "outputs": [],
   "source": [
    "# hist = [[0,1,2,0,3],[3,4,3,1,0],[0,3,2,1,4]]\n",
    "hist = [[0,0,1,2,3],[0,3,4,3,1],[0,3,2,1,4]]\n",
    "target = [4,2,4]\n",
    "hist = torch.tensor(hist)\n",
    "target = torch.tensor(target)"
   ]
  },
  {
   "cell_type": "code",
   "execution_count": 64,
   "id": "00c69e3c-98cf-4ad6-83fb-23833570f9ad",
   "metadata": {},
   "outputs": [
    {
     "data": {
      "text/plain": [
       "tensor([[0, 2],\n",
       "        [0, 3],\n",
       "        [0, 4],\n",
       "        [1, 1],\n",
       "        [1, 2],\n",
       "        [1, 3],\n",
       "        [1, 4],\n",
       "        [2, 1],\n",
       "        [2, 2],\n",
       "        [2, 3],\n",
       "        [2, 4]])"
      ]
     },
     "execution_count": 64,
     "metadata": {},
     "output_type": "execute_result"
    }
   ],
   "source": [
    "hist.nonzero().squeeze()"
   ]
  },
  {
   "cell_type": "code",
   "execution_count": 8,
   "id": "3242850d-0090-4d6d-857e-3877b41429dc",
   "metadata": {},
   "outputs": [
    {
     "data": {
      "text/plain": [
       "array(['hello'], dtype='<U5')"
      ]
     },
     "execution_count": 8,
     "metadata": {},
     "output_type": "execute_result"
    }
   ],
   "source": [
    "import numpy as np\n",
    "a = ['hello']\n",
    "np.array(a)"
   ]
  },
  {
   "cell_type": "code",
   "execution_count": 15,
   "id": "8666b5fc-b023-4ad5-b9f8-acba4a4ef24f",
   "metadata": {},
   "outputs": [
    {
     "data": {
      "text/plain": [
       "tensor([[0, 0],\n",
       "        [0, 2],\n",
       "        [0, 3],\n",
       "        [1, 3],\n",
       "        [1, 4],\n",
       "        [2, 0],\n",
       "        [2, 2],\n",
       "        [2, 3]])"
      ]
     },
     "execution_count": 15,
     "metadata": {},
     "output_type": "execute_result"
    }
   ],
   "source": [
    "gamma[target].nonzero(as_tuple=False)"
   ]
  },
  {
   "cell_type": "code",
   "execution_count": 47,
   "id": "29acc81c-aaa4-421e-b6f9-b1584b27e56d",
   "metadata": {},
   "outputs": [
    {
     "name": "stdout",
     "output_type": "stream",
     "text": [
      "tensor([3, 4, 4])\n"
     ]
    }
   ],
   "source": [
    "lengths = torch.tensor([3,4,4])\n",
    "valid_his = hist.gt(0).long()\n",
    "his_length = valid_his.sum(-1)\n",
    "print(his_length)\n",
    "\n",
    "sorted_his_length, sort_idx = torch.topk(his_length, k=len(lengths))"
   ]
  },
  {
   "cell_type": "code",
   "execution_count": 21,
   "id": "09a8eb6a-bba8-49e5-8ccd-786e685c9a51",
   "metadata": {},
   "outputs": [],
   "source": [
    "iid_emb = torch.nn.Embedding(5, 4)"
   ]
  },
  {
   "cell_type": "code",
   "execution_count": 25,
   "id": "cdc8b0de-c229-4df2-8565-98f70c880759",
   "metadata": {},
   "outputs": [
    {
     "data": {
      "text/plain": [
       "torch.Size([3, 5, 1])"
      ]
     },
     "execution_count": 25,
     "metadata": {},
     "output_type": "execute_result"
    }
   ],
   "source": [
    "valid_his.unsqueeze(dim=-1).float().shape"
   ]
  },
  {
   "cell_type": "code",
   "execution_count": 28,
   "id": "8e2d8aea-ad62-4b79-b7c6-a15abd46d299",
   "metadata": {},
   "outputs": [
    {
     "data": {
      "text/plain": [
       "torch.Size([3, 5, 4])"
      ]
     },
     "execution_count": 28,
     "metadata": {},
     "output_type": "execute_result"
    }
   ],
   "source": [
    "iid_emb(hist.abs()*valid_his).shape"
   ]
  },
  {
   "cell_type": "code",
   "execution_count": 55,
   "id": "43857dd9-5456-48ad-9586-1efdb3348a94",
   "metadata": {},
   "outputs": [
    {
     "data": {
      "text/plain": [
       "tensor([[[0.],\n",
       "         [0.],\n",
       "         [1.],\n",
       "         [1.],\n",
       "         [1.]],\n",
       "\n",
       "        [[0.],\n",
       "         [1.],\n",
       "         [1.],\n",
       "         [1.],\n",
       "         [1.]],\n",
       "\n",
       "        [[0.],\n",
       "         [1.],\n",
       "         [1.],\n",
       "         [1.],\n",
       "         [1.]]])"
      ]
     },
     "execution_count": 55,
     "metadata": {},
     "output_type": "execute_result"
    }
   ],
   "source": [
    "valid_his.unsqueeze(dim=-1).float()"
   ]
  },
  {
   "cell_type": "code",
   "execution_count": 48,
   "id": "18de4497-57ff-4ef9-af93-5ff212e781b1",
   "metadata": {},
   "outputs": [],
   "source": [
    "his_vectors = iid_emb(hist.abs()*valid_his) * valid_his.unsqueeze(dim=-1).float()"
   ]
  },
  {
   "cell_type": "code",
   "execution_count": 39,
   "id": "d6a65d0e-f457-4ccf-85ad-0466e9ee5adf",
   "metadata": {},
   "outputs": [
    {
     "data": {
      "text/plain": [
       "tensor([[[ 0.0000,  0.0000, -0.0000,  0.0000],\n",
       "         [-1.7279, -0.8900,  0.8295, -1.6214],\n",
       "         [ 0.5841,  0.2310, -0.8600, -1.0928],\n",
       "         [ 0.0000,  0.0000, -0.0000,  0.0000],\n",
       "         [-0.0592,  0.4292,  0.0081, -0.8297]],\n",
       "\n",
       "        [[-0.0592,  0.4292,  0.0081, -0.8297],\n",
       "         [-0.8404,  0.2307, -0.5048,  1.9769],\n",
       "         [-0.0592,  0.4292,  0.0081, -0.8297],\n",
       "         [-1.7279, -0.8900,  0.8295, -1.6214],\n",
       "         [ 0.0000,  0.0000, -0.0000,  0.0000]],\n",
       "\n",
       "        [[ 0.0000,  0.0000, -0.0000,  0.0000],\n",
       "         [-0.0592,  0.4292,  0.0081, -0.8297],\n",
       "         [ 0.5841,  0.2310, -0.8600, -1.0928],\n",
       "         [-1.7279, -0.8900,  0.8295, -1.6214],\n",
       "         [-0.8404,  0.2307, -0.5048,  1.9769]]], grad_fn=<MulBackward0>)"
      ]
     },
     "execution_count": 39,
     "metadata": {},
     "output_type": "execute_result"
    }
   ],
   "source": [
    "his_vectors"
   ]
  },
  {
   "cell_type": "code",
   "execution_count": 49,
   "id": "aee180fc-f3f2-4474-b722-5f9f4ffbf1bc",
   "metadata": {},
   "outputs": [],
   "source": [
    "sort_his_vector = his_vectors.index_select(dim=0, index=sort_idx)"
   ]
  },
  {
   "cell_type": "code",
   "execution_count": 53,
   "id": "202e796b-07de-4df2-9309-c3be43b04a22",
   "metadata": {},
   "outputs": [
    {
     "data": {
      "text/plain": [
       "tensor([[[ 0.0000,  0.0000, -0.0000,  0.0000],\n",
       "         [-0.0592,  0.4292,  0.0081, -0.8297],\n",
       "         [-0.8404,  0.2307, -0.5048,  1.9769],\n",
       "         [-0.0592,  0.4292,  0.0081, -0.8297],\n",
       "         [-1.7279, -0.8900,  0.8295, -1.6214]],\n",
       "\n",
       "        [[ 0.0000,  0.0000, -0.0000,  0.0000],\n",
       "         [-0.0592,  0.4292,  0.0081, -0.8297],\n",
       "         [ 0.5841,  0.2310, -0.8600, -1.0928],\n",
       "         [-1.7279, -0.8900,  0.8295, -1.6214],\n",
       "         [-0.8404,  0.2307, -0.5048,  1.9769]],\n",
       "\n",
       "        [[ 0.0000,  0.0000, -0.0000,  0.0000],\n",
       "         [ 0.0000,  0.0000, -0.0000,  0.0000],\n",
       "         [-1.7279, -0.8900,  0.8295, -1.6214],\n",
       "         [ 0.5841,  0.2310, -0.8600, -1.0928],\n",
       "         [-0.0592,  0.4292,  0.0081, -0.8297]]], grad_fn=<IndexSelectBackward>)"
      ]
     },
     "execution_count": 53,
     "metadata": {},
     "output_type": "execute_result"
    }
   ],
   "source": [
    "sort_his_vector"
   ]
  },
  {
   "cell_type": "code",
   "execution_count": 58,
   "id": "ea976149-d721-4a29-ba43-cccb0c187b58",
   "metadata": {},
   "outputs": [
    {
     "name": "stdout",
     "output_type": "stream",
     "text": [
      "tensor([[0, 0, 1, 2, 3],\n",
      "        [0, 3, 4, 3, 1],\n",
      "        [0, 3, 2, 1, 4]])\n",
      "PackedSequence(data=tensor([0, 0, 0, 0, 3, 3, 1, 4, 2, 2, 3]), batch_sizes=tensor([3, 3, 3, 2]), sorted_indices=None, unsorted_indices=None)\n"
     ]
    }
   ],
   "source": [
    "hist_packed = torch.nn.utils.rnn.pack_padded_sequence(hist, sorted_his_length, batch_first=True)\n",
    "print(hist)\n",
    "print(hist_packed)"
   ]
  },
  {
   "cell_type": "code",
   "execution_count": 50,
   "id": "832a49f3-1011-4a5b-b4d2-82ffc2f97bc6",
   "metadata": {},
   "outputs": [],
   "source": [
    "history_packed = torch.nn.utils.rnn.pack_padded_sequence(sort_his_vector, sorted_his_length, batch_first=True)"
   ]
  },
  {
   "cell_type": "code",
   "execution_count": 51,
   "id": "77cdb34e-8986-4e8f-adb9-f917a278dad1",
   "metadata": {},
   "outputs": [
    {
     "data": {
      "text/plain": [
       "PackedSequence(data=tensor([[ 0.0000,  0.0000, -0.0000,  0.0000],\n",
       "        [ 0.0000,  0.0000, -0.0000,  0.0000],\n",
       "        [ 0.0000,  0.0000, -0.0000,  0.0000],\n",
       "        [-0.0592,  0.4292,  0.0081, -0.8297],\n",
       "        [-0.0592,  0.4292,  0.0081, -0.8297],\n",
       "        [ 0.0000,  0.0000, -0.0000,  0.0000],\n",
       "        [-0.8404,  0.2307, -0.5048,  1.9769],\n",
       "        [ 0.5841,  0.2310, -0.8600, -1.0928],\n",
       "        [-1.7279, -0.8900,  0.8295, -1.6214],\n",
       "        [-0.0592,  0.4292,  0.0081, -0.8297],\n",
       "        [-1.7279, -0.8900,  0.8295, -1.6214]],\n",
       "       grad_fn=<PackPaddedSequenceBackward>), batch_sizes=tensor([3, 3, 3, 2]), sorted_indices=None, unsorted_indices=None)"
      ]
     },
     "execution_count": 51,
     "metadata": {},
     "output_type": "execute_result"
    }
   ],
   "source": [
    "history_packed"
   ]
  },
  {
   "cell_type": "code",
   "execution_count": 52,
   "id": "e6bcc6f9-649b-43df-bfbe-6be5518f33c1",
   "metadata": {},
   "outputs": [
    {
     "name": "stdout",
     "output_type": "stream",
     "text": [
      "PackedSequence(data=tensor([[ 7.2568e-02,  1.9212e-01, -2.2542e-01,  3.6330e-03, -9.4501e-02,\n",
      "          1.2062e-01],\n",
      "        [ 7.2568e-02,  1.9212e-01, -2.2542e-01,  3.6330e-03, -9.4501e-02,\n",
      "          1.2062e-01],\n",
      "        [ 7.2568e-02,  1.9212e-01, -2.2542e-01,  3.6330e-03, -9.4501e-02,\n",
      "          1.2062e-01],\n",
      "        [ 3.1079e-01,  3.3411e-01, -4.2154e-01,  6.2677e-02,  5.3530e-02,\n",
      "          1.9712e-01],\n",
      "        [ 3.1079e-01,  3.3411e-01, -4.2154e-01,  6.2677e-02,  5.3530e-02,\n",
      "          1.9712e-01],\n",
      "        [ 7.5109e-02,  2.5640e-01, -3.3852e-01,  1.1056e-02, -1.0363e-01,\n",
      "          1.9903e-01],\n",
      "        [-2.5181e-01,  1.0953e-01, -3.7740e-01, -1.5275e-01, -1.0317e-01,\n",
      "          2.4133e-01],\n",
      "        [ 4.7527e-01,  2.5066e-01, -3.9029e-01,  2.0287e-01,  5.9163e-02,\n",
      "          1.7335e-01],\n",
      "        [ 1.6096e-01,  6.0185e-01, -5.6059e-01,  1.0657e-01,  3.7550e-01,\n",
      "          4.2821e-01],\n",
      "        [ 1.6965e-01,  2.8896e-01, -5.3561e-01, -5.5387e-04,  2.7547e-02,\n",
      "          2.6741e-01],\n",
      "        [ 2.8374e-01,  6.2965e-01, -5.6191e-01,  1.9691e-01,  4.4088e-01,\n",
      "          4.3964e-01]], grad_fn=<CatBackward>), batch_sizes=tensor([3, 3, 3, 2]), sorted_indices=None, unsorted_indices=None)\n",
      "tensor([[[ 1.6965e-01,  2.8896e-01, -5.3561e-01, -5.5387e-04,  2.7547e-02,\n",
      "           2.6741e-01],\n",
      "         [ 2.8374e-01,  6.2965e-01, -5.6191e-01,  1.9691e-01,  4.4088e-01,\n",
      "           4.3964e-01],\n",
      "         [ 1.6096e-01,  6.0185e-01, -5.6059e-01,  1.0657e-01,  3.7550e-01,\n",
      "           4.2821e-01]]], grad_fn=<StackBackward>)\n"
     ]
    }
   ],
   "source": [
    "output, hidden = rnn(history_packed, None)\n",
    "print(output)\n",
    "print(hidden)"
   ]
  },
  {
   "cell_type": "code",
   "execution_count": 43,
   "id": "43321609-0fcb-414f-912c-370418ed95a0",
   "metadata": {},
   "outputs": [
    {
     "data": {
      "text/plain": [
       "PackedSequence(data=tensor([[-0.0592,  0.4292,  0.0081, -0.8297],\n",
       "        [ 0.0000,  0.0000, -0.0000,  0.0000],\n",
       "        [ 0.0000,  0.0000, -0.0000,  0.0000],\n",
       "        [-0.8404,  0.2307, -0.5048,  1.9769],\n",
       "        [-0.0592,  0.4292,  0.0081, -0.8297],\n",
       "        [-1.7279, -0.8900,  0.8295, -1.6214],\n",
       "        [-0.0592,  0.4292,  0.0081, -0.8297],\n",
       "        [ 0.5841,  0.2310, -0.8600, -1.0928],\n",
       "        [ 0.5841,  0.2310, -0.8600, -1.0928],\n",
       "        [-1.7279, -0.8900,  0.8295, -1.6214],\n",
       "        [-1.7279, -0.8900,  0.8295, -1.6214]],\n",
       "       grad_fn=<PackPaddedSequenceBackward>), batch_sizes=tensor([3, 3, 3, 2]), sorted_indices=None, unsorted_indices=None)"
      ]
     },
     "execution_count": 43,
     "metadata": {},
     "output_type": "execute_result"
    }
   ],
   "source": [
    "history_packed"
   ]
  },
  {
   "cell_type": "code",
   "execution_count": 44,
   "id": "a876ac6b-2577-442b-9076-d70e610c9f59",
   "metadata": {},
   "outputs": [],
   "source": [
    "rnn = torch.nn.GRU(input_size=4, hidden_size=6, batch_first=True, num_layers=1)"
   ]
  },
  {
   "cell_type": "code",
   "execution_count": 45,
   "id": "3d976b01-8f0e-4820-9f66-9e1f02df7ff2",
   "metadata": {},
   "outputs": [
    {
     "name": "stdout",
     "output_type": "stream",
     "text": [
      "PackedSequence(data=tensor([[ 0.3105,  0.2701, -0.2985,  0.0533,  0.0592,  0.1190],\n",
      "        [ 0.0726,  0.1921, -0.2254,  0.0036, -0.0945,  0.1206],\n",
      "        [ 0.0726,  0.1921, -0.2254,  0.0036, -0.0945,  0.1206],\n",
      "        [-0.2538,  0.0928, -0.3261, -0.1568, -0.1066,  0.1877],\n",
      "        [ 0.3108,  0.3341, -0.4215,  0.0627,  0.0535,  0.1971],\n",
      "        [ 0.1721,  0.5767, -0.4910,  0.0957,  0.3675,  0.3859],\n",
      "        [ 0.1754,  0.2845, -0.5088, -0.0075,  0.0216,  0.2310],\n",
      "        [ 0.4753,  0.2507, -0.3903,  0.2029,  0.0592,  0.1734],\n",
      "        [ 0.4068,  0.3360, -0.4384,  0.2269,  0.2359,  0.3062],\n",
      "        [ 0.1834,  0.6234, -0.6567,  0.1115,  0.4139,  0.4562],\n",
      "        [ 0.2837,  0.6297, -0.5619,  0.1969,  0.4409,  0.4396]],\n",
      "       grad_fn=<CatBackward>), batch_sizes=tensor([3, 3, 3, 2]), sorted_indices=None, unsorted_indices=None)\n",
      "tensor([[[ 0.1834,  0.6234, -0.6567,  0.1115,  0.4139,  0.4562],\n",
      "         [ 0.2837,  0.6297, -0.5619,  0.1969,  0.4409,  0.4396],\n",
      "         [ 0.4068,  0.3360, -0.4384,  0.2269,  0.2359,  0.3062]]],\n",
      "       grad_fn=<StackBackward>)\n"
     ]
    }
   ],
   "source": [
    "output, hidden = rnn(history_packed, None)\n",
    "print(output)\n",
    "print(hidden)"
   ]
  },
  {
   "cell_type": "code",
   "execution_count": 10,
   "id": "a0fa5777-ba00-4bdb-86f0-3e2a2aeb8619",
   "metadata": {},
   "outputs": [],
   "source": [
    "import torch\n",
    "a = [torch.tensor([]) for i in range(3)]"
   ]
  },
  {
   "cell_type": "code",
   "execution_count": 11,
   "id": "d1c76cd9-f913-41b6-8b51-6a9b80fba8dd",
   "metadata": {},
   "outputs": [],
   "source": [
    "pad_his = torch.nn.utils.rnn.pad_sequence(a, batch_first=True)"
   ]
  },
  {
   "cell_type": "code",
   "execution_count": 12,
   "id": "fc47d9a0-fa65-4b55-919b-4ea1c59188d2",
   "metadata": {},
   "outputs": [
    {
     "data": {
      "text/plain": [
       "tensor([], size=(3, 0))"
      ]
     },
     "execution_count": 12,
     "metadata": {},
     "output_type": "execute_result"
    }
   ],
   "source": [
    "pad_his"
   ]
  },
  {
   "cell_type": "code",
   "execution_count": 71,
   "id": "9d6fe904-217e-45cd-9faa-2e15053ca964",
   "metadata": {},
   "outputs": [
    {
     "data": {
      "text/plain": [
       "tensor([[0, 0, 0, 0, 0],\n",
       "        [0, 0, 0, 0, 0],\n",
       "        [0, 0, 0, 0, 0],\n",
       "        [0, 0, 0, 0, 0],\n",
       "        [1, 1, 1, 0, 0]])"
      ]
     },
     "execution_count": 71,
     "metadata": {},
     "output_type": "execute_result"
    }
   ],
   "source": [
    "gamma = torch.empty(5, 5)\n",
    "gamma.diagonal().fill_(float(\"-inf\"))\n",
    "gammaexp = gamma.sigmoid().gt_(torch.tensor(0.5))\n",
    "gammaexp.diagonal().zero_()\n",
    "gammaexp.long()"
   ]
  },
  {
   "cell_type": "code",
   "execution_count": 53,
   "id": "f9b0a0d4-a961-4313-af5b-4926bdd9312f",
   "metadata": {},
   "outputs": [
    {
     "data": {
      "text/plain": [
       "tensor([[0., 0., 0., 0., 0.],\n",
       "        [0., 0., 0., 0., 0.],\n",
       "        [0., 0., 0., 0., 0.],\n",
       "        [1., 1., 1., 0., 1.],\n",
       "        [0., 0., 0., 0., 0.]])"
      ]
     },
     "execution_count": 53,
     "metadata": {},
     "output_type": "execute_result"
    }
   ],
   "source": [
    "gammaexp"
   ]
  },
  {
   "cell_type": "code",
   "execution_count": 72,
   "id": "c765dc67-392a-4536-aecb-215fa1814ed8",
   "metadata": {},
   "outputs": [
    {
     "data": {
      "text/plain": [
       "tensor([[0, 1, 2, 3, 4],\n",
       "        [0, 1, 2, 3, 4],\n",
       "        [0, 1, 2, 3, 4],\n",
       "        [0, 1, 2, 3, 4],\n",
       "        [0, 1, 2, 3, 4]])"
      ]
     },
     "execution_count": 72,
     "metadata": {},
     "output_type": "execute_result"
    }
   ],
   "source": [
    "value, indice = torch.sort(gammaexp, dim=-1, descending=True)\n",
    "indice"
   ]
  },
  {
   "cell_type": "code",
   "execution_count": 55,
   "id": "9399bcd7-25aa-4cc7-883d-4d765ad3efc4",
   "metadata": {},
   "outputs": [
    {
     "data": {
      "text/plain": [
       "torch.Tensor"
      ]
     },
     "execution_count": 55,
     "metadata": {},
     "output_type": "execute_result"
    }
   ],
   "source": [
    "type(indice)"
   ]
  },
  {
   "cell_type": "code",
   "execution_count": null,
   "id": "098fe87d-10eb-431a-ada9-f92671f8b963",
   "metadata": {},
   "outputs": [],
   "source": []
  }
 ],
 "metadata": {
  "kernelspec": {
   "display_name": "Python 3 (ipykernel)",
   "language": "python",
   "name": "python3"
  },
  "language_info": {
   "codemirror_mode": {
    "name": "ipython",
    "version": 3
   },
   "file_extension": ".py",
   "mimetype": "text/x-python",
   "name": "python",
   "nbconvert_exporter": "python",
   "pygments_lexer": "ipython3",
   "version": "3.7.10"
  }
 },
 "nbformat": 4,
 "nbformat_minor": 5
}
